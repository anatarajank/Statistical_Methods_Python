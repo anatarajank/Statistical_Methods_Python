{
  "cells": [
    {
      "cell_type": "markdown",
      "metadata": {
        "id": "d51l2rVBU3h3"
      },
      "source": [
        "### <center> **AB Shingles Data Analysis** </center>\n",
        "\n",
        "---\n",
        "\n",
        "**<center> Author: Aravindan Natarajan </center>**\n",
        "**<center>Version: 2.0</center>**\n",
        "\n",
        "---"
      ]
    },
    {
      "cell_type": "markdown",
      "metadata": {
        "id": "XSg_eeIKS4TB"
      },
      "source": [
        "### **Data Summary**\n",
        "An important quality characteristic used by the manufacturers of ABC asphalt shingles is the amount of moisture the shingles contain when they are packaged. Customers may feel that they have purchased a product lacking in quality if they find moisture and wet shingles inside the packaging.   In some cases, excessive moisture can cause the granules attached to the shingles for texture and coloring purposes to fall off the shingles resulting in appearance problems. To monitor the amount of moisture present, the company conducts moisture tests. A shingle is weighed and then dried. The shingle is then reweighed, and based on the amount of moisture taken out of the product, the pounds of moisture per 100 square feet are calculated. The company would like to show that the mean moisture content is less than 0.35 pounds per 100 square feet.\n",
        "\n",
        "The file (A & B shingles.csv) includes 36 measurements (in pounds per 100 square feet) for A shingles and 31 for B shingles."
      ]
    },
    {
      "cell_type": "markdown",
      "metadata": {
        "id": "8l09Sc3bIOwS"
      },
      "source": [
        "### **1. Import the Required Libraries**\n",
        "---"
      ]
    },
    {
      "cell_type": "code",
      "execution_count": 50,
      "metadata": {
        "id": "q9bgRWt6a3MB"
      },
      "outputs": [],
      "source": [
        "# Import basic packages\n",
        "import pandas as pd\n",
        "import numpy as np\n",
        "\n",
        "# Import visualization packages\n",
        "import seaborn as sns\n",
        "import matplotlib.pyplot as plt\n",
        "sns.set(style='ticks', color_codes=True)\n",
        "%matplotlib inline\n",
        "\n",
        "# Import statistical packages\n",
        "from scipy.stats import variation\n",
        "from scipy.stats import ttest_1samp, ttest_ind\n",
        "from scipy.stats import levene\n",
        "from scipy.stats import shapiro\n",
        "import statsmodels.api as sm\n",
        "\n",
        "# Import warnings\n",
        "import warnings\n",
        "\n",
        "# Warning handling\n",
        "import warnings\n",
        "warnings.filterwarnings('ignore')"
      ]
    },
    {
      "cell_type": "markdown",
      "metadata": {
        "id": "cnrvaGnt1bmL"
      },
      "source": [
        "### **Some Useful Functions**"
      ]
    },
    {
      "cell_type": "code",
      "execution_count": 51,
      "metadata": {
        "id": "zVOAsAvmIE_0"
      },
      "outputs": [],
      "source": [
        "# Annotation function to display the numbers above bar for bargraphs\n",
        "\n",
        "def annotate_values(ax, orientation='v'):\n",
        "  # Display counts at the top of the bars\n",
        "  for p in ax.patches:\n",
        "        if orientation == 'v':\n",
        "            ax.annotate(format(p.get_height(), '.0f'),\n",
        "                        (p.get_x() + p.get_width() / 2., p.get_height()),\n",
        "                        ha='center', va='center',\n",
        "                        xytext=(0, 10),\n",
        "                        textcoords='offset points',\n",
        "                        fontsize=8)\n",
        "\n",
        "        elif orientation == 'h':\n",
        "            ax.annotate(format(p.get_width(), '.0f'),\n",
        "                        (p.get_width(), p.get_y() + p.get_height() / 2.),\n",
        "                        ha='left', va='center',\n",
        "                        xytext=(5, 0),\n",
        "                        textcoords='offset points',\n",
        "                        fontsize=8)"
      ]
    },
    {
      "cell_type": "code",
      "execution_count": 52,
      "metadata": {
        "id": "B5hOTBV3d-IZ"
      },
      "outputs": [],
      "source": [
        "# Function for plotting a countplot\n",
        "\n",
        "def plot_countplot(df, column, hue=None, hue_order=None):\n",
        "  plt.figure(figsize=(10, 6))\n",
        "\n",
        "  # If hue is provided, use it in the countplot\n",
        "  if hue:\n",
        "    counts = df.groupby([column, hue]).size().reset_index(name='count')\n",
        "    order = counts.sort_values('count', ascending=False)[column].unique()\n",
        "    ax = sns.countplot(x=column, data=df, order=order, hue=hue, hue_order=hue_order)\n",
        "  else:\n",
        "    counts = df[column].value_counts().sort_values(ascending=False)\n",
        "    ax = sns.countplot(x=column, data=df, order=counts.index)\n",
        "\n",
        "  plt.xticks(rotation=90)\n",
        "  plt.title(f'Count Plot of {column}')\n",
        "  plt.xlabel(f'{column}')\n",
        "  plt.ylabel(f'Count of {column}')\n",
        "  annotate_values(ax)\n",
        "  plt.show()"
      ]
    },
    {
      "cell_type": "code",
      "execution_count": 53,
      "metadata": {
        "id": "f7mNHedNhVyQ"
      },
      "outputs": [],
      "source": [
        "# Function similar to plot_countplot named as plot_barplot\n",
        "\n",
        "def plot_barplot(df, x_col, y_col, hue=None, hue_order=None):\n",
        "    plt.figure(figsize=(10, 6))\n",
        "\n",
        "    # Sort x_col values in ascending order\n",
        "    order = df[x_col].sort_values().unique()\n",
        "\n",
        "    if hue:\n",
        "        ax = sns.barplot(x=x_col, y=y_col, data=df, hue=hue, hue_order=hue_order, order=order, palette='Set1',ci=None)  # ci=None removes error bars\n",
        "    else:\n",
        "        ax = sns.barplot(x=x_col, y=y_col, data=df, order=order, palette='Set1', ci=None)\n",
        "\n",
        "    plt.xticks(rotation=90)\n",
        "    plt.title(f'Bar Plot of {y_col} vs {x_col}')\n",
        "    plt.xlabel(f'{x_col}')\n",
        "    plt.ylabel(f'{y_col}')\n",
        "    annotate_values(ax)\n",
        "    plt.show()\n"
      ]
    },
    {
      "cell_type": "code",
      "execution_count": 54,
      "metadata": {
        "id": "EhLw6tjNIF0h"
      },
      "outputs": [],
      "source": [
        "# Function to annotate a Seaborn box plot with quartiles, IQR, maximum, and minimum values.\n",
        "\n",
        "def annotate_boxplot(data_series, ax=None):\n",
        "\n",
        "    # Calculate quartiles and IQR\n",
        "    q1, q2, q3 = data_series.quantile([0.25, 0.5, 0.75])\n",
        "    iqr = q3 - q1\n",
        "\n",
        "    # Get minimum and maximum values\n",
        "    data_min = data_series.min()\n",
        "    data_max = data_series.max()\n",
        "\n",
        "    # Get plot limits\n",
        "    x_min, x_max = ax.get_xlim()\n",
        "    x_range = x_max - x_min\n",
        "\n",
        "    # Adjust figure size based on x-range\n",
        "    fig = plt.gcf()\n",
        "    fig.set_size_inches(10 + x_range/10, 6)  # Adjust these values as needed\n",
        "\n",
        "    # Annotate quartiles and IQR without arrows\n",
        "    ax.text(q1, -0.3, f\"Q1: {q1:.2f}\", ha='center')\n",
        "    ax.text(q2, 0.3, f\"Q2 (Median): {q2:.2f}\", ha='center')\n",
        "    ax.text(q3, -0.4, f\"Q3: {q3:.2f}\", ha='center')\n",
        "    #ax.text((q1+q3)/2, 0.3, f\"IQR: {iqr:.2f}\", ha='center', va='center')\n",
        "\n",
        "    # Annotate minimum and maximum without arrows\n",
        "    ax.text(data_min, -0.2, f\"Min: {data_min:.2f}\", ha='center')\n",
        "    ax.text(data_max, 0.1, f\"Max: {data_max:.2f}\", ha='center')\n",
        "\n",
        "    return ax"
      ]
    },
    {
      "cell_type": "markdown",
      "metadata": {
        "id": "aKVps1ll12IK"
      },
      "source": [
        "### **3. Load the Dataset**"
      ]
    },
    {
      "cell_type": "code",
      "execution_count": null,
      "metadata": {
        "colab": {
          "base_uri": "https://localhost:8080/",
          "height": 206
        },
        "id": "MTquqqdmVyoF",
        "outputId": "0c1af977-0f81-46d0-8272-0542d366cab8"
      },
      "outputs": [
        {
          "data": {
            "application/vnd.google.colaboratory.intrinsic+json": {
              "summary": "{\n  \"name\": \"shingles_df\",\n  \"rows\": 36,\n  \"fields\": [\n    {\n      \"column\": \"A\",\n      \"properties\": {\n        \"dtype\": \"number\",\n        \"std\": 0.13573082605973166,\n        \"min\": 0.13,\n        \"max\": 0.72,\n        \"num_unique_values\": 28,\n        \"samples\": [\n          0.14,\n          0.4,\n          0.26\n        ],\n        \"semantic_type\": \"\",\n        \"description\": \"\"\n      }\n    },\n    {\n      \"column\": \"B\",\n      \"properties\": {\n        \"dtype\": \"number\",\n        \"std\": 0.13729647694185443,\n        \"min\": 0.1,\n        \"max\": 0.58,\n        \"num_unique_values\": 23,\n        \"samples\": [\n          0.19,\n          0.41,\n          0.14\n        ],\n        \"semantic_type\": \"\",\n        \"description\": \"\"\n      }\n    }\n  ]\n}",
              "type": "dataframe",
              "variable_name": "shingles_df"
            },
            "text/html": [
              "\n",
              "  <div id=\"df-c1d7509f-6af5-433c-8994-b71afd78386e\" class=\"colab-df-container\">\n",
              "    <div>\n",
              "<style scoped>\n",
              "    .dataframe tbody tr th:only-of-type {\n",
              "        vertical-align: middle;\n",
              "    }\n",
              "\n",
              "    .dataframe tbody tr th {\n",
              "        vertical-align: top;\n",
              "    }\n",
              "\n",
              "    .dataframe thead th {\n",
              "        text-align: right;\n",
              "    }\n",
              "</style>\n",
              "<table border=\"1\" class=\"dataframe\">\n",
              "  <thead>\n",
              "    <tr style=\"text-align: right;\">\n",
              "      <th></th>\n",
              "      <th>A</th>\n",
              "      <th>B</th>\n",
              "    </tr>\n",
              "  </thead>\n",
              "  <tbody>\n",
              "    <tr>\n",
              "      <th>0</th>\n",
              "      <td>0.44</td>\n",
              "      <td>0.14</td>\n",
              "    </tr>\n",
              "    <tr>\n",
              "      <th>1</th>\n",
              "      <td>0.61</td>\n",
              "      <td>0.15</td>\n",
              "    </tr>\n",
              "    <tr>\n",
              "      <th>2</th>\n",
              "      <td>0.47</td>\n",
              "      <td>0.31</td>\n",
              "    </tr>\n",
              "    <tr>\n",
              "      <th>3</th>\n",
              "      <td>0.30</td>\n",
              "      <td>0.16</td>\n",
              "    </tr>\n",
              "    <tr>\n",
              "      <th>4</th>\n",
              "      <td>0.15</td>\n",
              "      <td>0.37</td>\n",
              "    </tr>\n",
              "  </tbody>\n",
              "</table>\n",
              "</div>\n",
              "    <div class=\"colab-df-buttons\">\n",
              "\n",
              "  <div class=\"colab-df-container\">\n",
              "    <button class=\"colab-df-convert\" onclick=\"convertToInteractive('df-c1d7509f-6af5-433c-8994-b71afd78386e')\"\n",
              "            title=\"Convert this dataframe to an interactive table.\"\n",
              "            style=\"display:none;\">\n",
              "\n",
              "  <svg xmlns=\"http://www.w3.org/2000/svg\" height=\"24px\" viewBox=\"0 -960 960 960\">\n",
              "    <path d=\"M120-120v-720h720v720H120Zm60-500h600v-160H180v160Zm220 220h160v-160H400v160Zm0 220h160v-160H400v160ZM180-400h160v-160H180v160Zm440 0h160v-160H620v160ZM180-180h160v-160H180v160Zm440 0h160v-160H620v160Z\"/>\n",
              "  </svg>\n",
              "    </button>\n",
              "\n",
              "  <style>\n",
              "    .colab-df-container {\n",
              "      display:flex;\n",
              "      gap: 12px;\n",
              "    }\n",
              "\n",
              "    .colab-df-convert {\n",
              "      background-color: #E8F0FE;\n",
              "      border: none;\n",
              "      border-radius: 50%;\n",
              "      cursor: pointer;\n",
              "      display: none;\n",
              "      fill: #1967D2;\n",
              "      height: 32px;\n",
              "      padding: 0 0 0 0;\n",
              "      width: 32px;\n",
              "    }\n",
              "\n",
              "    .colab-df-convert:hover {\n",
              "      background-color: #E2EBFA;\n",
              "      box-shadow: 0px 1px 2px rgba(60, 64, 67, 0.3), 0px 1px 3px 1px rgba(60, 64, 67, 0.15);\n",
              "      fill: #174EA6;\n",
              "    }\n",
              "\n",
              "    .colab-df-buttons div {\n",
              "      margin-bottom: 4px;\n",
              "    }\n",
              "\n",
              "    [theme=dark] .colab-df-convert {\n",
              "      background-color: #3B4455;\n",
              "      fill: #D2E3FC;\n",
              "    }\n",
              "\n",
              "    [theme=dark] .colab-df-convert:hover {\n",
              "      background-color: #434B5C;\n",
              "      box-shadow: 0px 1px 3px 1px rgba(0, 0, 0, 0.15);\n",
              "      filter: drop-shadow(0px 1px 2px rgba(0, 0, 0, 0.3));\n",
              "      fill: #FFFFFF;\n",
              "    }\n",
              "  </style>\n",
              "\n",
              "    <script>\n",
              "      const buttonEl =\n",
              "        document.querySelector('#df-c1d7509f-6af5-433c-8994-b71afd78386e button.colab-df-convert');\n",
              "      buttonEl.style.display =\n",
              "        google.colab.kernel.accessAllowed ? 'block' : 'none';\n",
              "\n",
              "      async function convertToInteractive(key) {\n",
              "        const element = document.querySelector('#df-c1d7509f-6af5-433c-8994-b71afd78386e');\n",
              "        const dataTable =\n",
              "          await google.colab.kernel.invokeFunction('convertToInteractive',\n",
              "                                                    [key], {});\n",
              "        if (!dataTable) return;\n",
              "\n",
              "        const docLinkHtml = 'Like what you see? Visit the ' +\n",
              "          '<a target=\"_blank\" href=https://colab.research.google.com/notebooks/data_table.ipynb>data table notebook</a>'\n",
              "          + ' to learn more about interactive tables.';\n",
              "        element.innerHTML = '';\n",
              "        dataTable['output_type'] = 'display_data';\n",
              "        await google.colab.output.renderOutput(dataTable, element);\n",
              "        const docLink = document.createElement('div');\n",
              "        docLink.innerHTML = docLinkHtml;\n",
              "        element.appendChild(docLink);\n",
              "      }\n",
              "    </script>\n",
              "  </div>\n",
              "\n",
              "\n",
              "<div id=\"df-afae842b-6c4c-4e2c-a001-b32956b758a1\">\n",
              "  <button class=\"colab-df-quickchart\" onclick=\"quickchart('df-afae842b-6c4c-4e2c-a001-b32956b758a1')\"\n",
              "            title=\"Suggest charts\"\n",
              "            style=\"display:none;\">\n",
              "\n",
              "<svg xmlns=\"http://www.w3.org/2000/svg\" height=\"24px\"viewBox=\"0 0 24 24\"\n",
              "     width=\"24px\">\n",
              "    <g>\n",
              "        <path d=\"M19 3H5c-1.1 0-2 .9-2 2v14c0 1.1.9 2 2 2h14c1.1 0 2-.9 2-2V5c0-1.1-.9-2-2-2zM9 17H7v-7h2v7zm4 0h-2V7h2v10zm4 0h-2v-4h2v4z\"/>\n",
              "    </g>\n",
              "</svg>\n",
              "  </button>\n",
              "\n",
              "<style>\n",
              "  .colab-df-quickchart {\n",
              "      --bg-color: #E8F0FE;\n",
              "      --fill-color: #1967D2;\n",
              "      --hover-bg-color: #E2EBFA;\n",
              "      --hover-fill-color: #174EA6;\n",
              "      --disabled-fill-color: #AAA;\n",
              "      --disabled-bg-color: #DDD;\n",
              "  }\n",
              "\n",
              "  [theme=dark] .colab-df-quickchart {\n",
              "      --bg-color: #3B4455;\n",
              "      --fill-color: #D2E3FC;\n",
              "      --hover-bg-color: #434B5C;\n",
              "      --hover-fill-color: #FFFFFF;\n",
              "      --disabled-bg-color: #3B4455;\n",
              "      --disabled-fill-color: #666;\n",
              "  }\n",
              "\n",
              "  .colab-df-quickchart {\n",
              "    background-color: var(--bg-color);\n",
              "    border: none;\n",
              "    border-radius: 50%;\n",
              "    cursor: pointer;\n",
              "    display: none;\n",
              "    fill: var(--fill-color);\n",
              "    height: 32px;\n",
              "    padding: 0;\n",
              "    width: 32px;\n",
              "  }\n",
              "\n",
              "  .colab-df-quickchart:hover {\n",
              "    background-color: var(--hover-bg-color);\n",
              "    box-shadow: 0 1px 2px rgba(60, 64, 67, 0.3), 0 1px 3px 1px rgba(60, 64, 67, 0.15);\n",
              "    fill: var(--button-hover-fill-color);\n",
              "  }\n",
              "\n",
              "  .colab-df-quickchart-complete:disabled,\n",
              "  .colab-df-quickchart-complete:disabled:hover {\n",
              "    background-color: var(--disabled-bg-color);\n",
              "    fill: var(--disabled-fill-color);\n",
              "    box-shadow: none;\n",
              "  }\n",
              "\n",
              "  .colab-df-spinner {\n",
              "    border: 2px solid var(--fill-color);\n",
              "    border-color: transparent;\n",
              "    border-bottom-color: var(--fill-color);\n",
              "    animation:\n",
              "      spin 1s steps(1) infinite;\n",
              "  }\n",
              "\n",
              "  @keyframes spin {\n",
              "    0% {\n",
              "      border-color: transparent;\n",
              "      border-bottom-color: var(--fill-color);\n",
              "      border-left-color: var(--fill-color);\n",
              "    }\n",
              "    20% {\n",
              "      border-color: transparent;\n",
              "      border-left-color: var(--fill-color);\n",
              "      border-top-color: var(--fill-color);\n",
              "    }\n",
              "    30% {\n",
              "      border-color: transparent;\n",
              "      border-left-color: var(--fill-color);\n",
              "      border-top-color: var(--fill-color);\n",
              "      border-right-color: var(--fill-color);\n",
              "    }\n",
              "    40% {\n",
              "      border-color: transparent;\n",
              "      border-right-color: var(--fill-color);\n",
              "      border-top-color: var(--fill-color);\n",
              "    }\n",
              "    60% {\n",
              "      border-color: transparent;\n",
              "      border-right-color: var(--fill-color);\n",
              "    }\n",
              "    80% {\n",
              "      border-color: transparent;\n",
              "      border-right-color: var(--fill-color);\n",
              "      border-bottom-color: var(--fill-color);\n",
              "    }\n",
              "    90% {\n",
              "      border-color: transparent;\n",
              "      border-bottom-color: var(--fill-color);\n",
              "    }\n",
              "  }\n",
              "</style>\n",
              "\n",
              "  <script>\n",
              "    async function quickchart(key) {\n",
              "      const quickchartButtonEl =\n",
              "        document.querySelector('#' + key + ' button');\n",
              "      quickchartButtonEl.disabled = true;  // To prevent multiple clicks.\n",
              "      quickchartButtonEl.classList.add('colab-df-spinner');\n",
              "      try {\n",
              "        const charts = await google.colab.kernel.invokeFunction(\n",
              "            'suggestCharts', [key], {});\n",
              "      } catch (error) {\n",
              "        console.error('Error during call to suggestCharts:', error);\n",
              "      }\n",
              "      quickchartButtonEl.classList.remove('colab-df-spinner');\n",
              "      quickchartButtonEl.classList.add('colab-df-quickchart-complete');\n",
              "    }\n",
              "    (() => {\n",
              "      let quickchartButtonEl =\n",
              "        document.querySelector('#df-afae842b-6c4c-4e2c-a001-b32956b758a1 button');\n",
              "      quickchartButtonEl.style.display =\n",
              "        google.colab.kernel.accessAllowed ? 'block' : 'none';\n",
              "    })();\n",
              "  </script>\n",
              "</div>\n",
              "\n",
              "    </div>\n",
              "  </div>\n"
            ],
            "text/plain": [
              "      A     B\n",
              "0  0.44  0.14\n",
              "1  0.61  0.15\n",
              "2  0.47  0.31\n",
              "3  0.30  0.16\n",
              "4  0.15  0.37"
            ]
          },
          "execution_count": 55,
          "metadata": {},
          "output_type": "execute_result"
        }
      ],
      "source": [
        "shingles_df= pd.read_csv(r'../data/A_B_shingles.csv')\n",
        "shingles_df.head()"
      ]
    },
    {
      "cell_type": "markdown",
      "metadata": {
        "id": "0NQADfmaG6uT"
      },
      "source": [
        "### **4. Exploratory Data Analysis**"
      ]
    },
    {
      "cell_type": "code",
      "execution_count": 56,
      "metadata": {
        "colab": {
          "base_uri": "https://localhost:8080/",
          "height": 147
        },
        "id": "A_l6Yhjaaer6",
        "outputId": "4ce4cbe1-dd47-4ba2-be50-f48830c0f7ee"
      },
      "outputs": [
        {
          "data": {
            "text/html": [
              "<div>\n",
              "<style scoped>\n",
              "    .dataframe tbody tr th:only-of-type {\n",
              "        vertical-align: middle;\n",
              "    }\n",
              "\n",
              "    .dataframe tbody tr th {\n",
              "        vertical-align: top;\n",
              "    }\n",
              "\n",
              "    .dataframe thead th {\n",
              "        text-align: right;\n",
              "    }\n",
              "</style>\n",
              "<table border=\"1\" class=\"dataframe\">\n",
              "  <thead>\n",
              "    <tr style=\"text-align: right;\">\n",
              "      <th></th>\n",
              "      <th>0</th>\n",
              "    </tr>\n",
              "  </thead>\n",
              "  <tbody>\n",
              "    <tr>\n",
              "      <th>A</th>\n",
              "      <td>0</td>\n",
              "    </tr>\n",
              "    <tr>\n",
              "      <th>B</th>\n",
              "      <td>5</td>\n",
              "    </tr>\n",
              "  </tbody>\n",
              "</table>\n",
              "</div><br><label><b>dtype:</b> int64</label>"
            ],
            "text/plain": [
              "A    0\n",
              "B    5\n",
              "dtype: int64"
            ]
          },
          "execution_count": 56,
          "metadata": {},
          "output_type": "execute_result"
        }
      ],
      "source": [
        "# Check for null values\n",
        "shingles_df.isnull().sum()"
      ]
    },
    {
      "cell_type": "code",
      "execution_count": 57,
      "metadata": {
        "colab": {
          "base_uri": "https://localhost:8080/",
          "height": 112
        },
        "id": "lrBvHu_oFtIu",
        "outputId": "c97270f4-f16a-4711-e09e-1f5bc34d4085"
      },
      "outputs": [
        {
          "data": {
            "application/vnd.google.colaboratory.intrinsic+json": {
              "summary": "{\n  \"name\": \"shingles_df\",\n  \"rows\": 2,\n  \"fields\": [\n    {\n      \"column\": \"count\",\n      \"properties\": {\n        \"dtype\": \"number\",\n        \"std\": 3.5355339059327378,\n        \"min\": 31.0,\n        \"max\": 36.0,\n        \"num_unique_values\": 2,\n        \"samples\": [\n          31.0,\n          36.0\n        ],\n        \"semantic_type\": \"\",\n        \"description\": \"\"\n      }\n    },\n    {\n      \"column\": \"mean\",\n      \"properties\": {\n        \"dtype\": \"number\",\n        \"std\": 0.03048922787696832,\n        \"min\": 0.2735483870967742,\n        \"max\": 0.31666666666666665,\n        \"num_unique_values\": 2,\n        \"samples\": [\n          0.2735483870967742,\n          0.31666666666666665\n        ],\n        \"semantic_type\": \"\",\n        \"description\": \"\"\n      }\n    },\n    {\n      \"column\": \"std\",\n      \"properties\": {\n        \"dtype\": \"number\",\n        \"std\": 0.0011070823557197075,\n        \"min\": 0.13573082605973166,\n        \"max\": 0.13729647694185443,\n        \"num_unique_values\": 2,\n        \"samples\": [\n          0.13729647694185443,\n          0.13573082605973166\n        ],\n        \"semantic_type\": \"\",\n        \"description\": \"\"\n      }\n    },\n    {\n      \"column\": \"min\",\n      \"properties\": {\n        \"dtype\": \"number\",\n        \"std\": 0.021213203435596427,\n        \"min\": 0.1,\n        \"max\": 0.13,\n        \"num_unique_values\": 2,\n        \"samples\": [\n          0.1,\n          0.13\n        ],\n        \"semantic_type\": \"\",\n        \"description\": \"\"\n      }\n    },\n    {\n      \"column\": \"25%\",\n      \"properties\": {\n        \"dtype\": \"number\",\n        \"std\": 0.033587572106361,\n        \"min\": 0.16,\n        \"max\": 0.2075,\n        \"num_unique_values\": 2,\n        \"samples\": [\n          0.16,\n          0.2075\n        ],\n        \"semantic_type\": \"\",\n        \"description\": \"\"\n      }\n    },\n    {\n      \"column\": \"50%\",\n      \"properties\": {\n        \"dtype\": \"number\",\n        \"std\": 0.04242640687119283,\n        \"min\": 0.23,\n        \"max\": 0.29,\n        \"num_unique_values\": 2,\n        \"samples\": [\n          0.23,\n          0.29\n        ],\n        \"semantic_type\": \"\",\n        \"description\": \"\"\n      }\n    },\n    {\n      \"column\": \"75%\",\n      \"properties\": {\n        \"dtype\": \"number\",\n        \"std\": 0.005303300858899111,\n        \"min\": 0.3925,\n        \"max\": 0.4,\n        \"num_unique_values\": 2,\n        \"samples\": [\n          0.4,\n          0.3925\n        ],\n        \"semantic_type\": \"\",\n        \"description\": \"\"\n      }\n    },\n    {\n      \"column\": \"max\",\n      \"properties\": {\n        \"dtype\": \"number\",\n        \"std\": 0.09899494936611666,\n        \"min\": 0.58,\n        \"max\": 0.72,\n        \"num_unique_values\": 2,\n        \"samples\": [\n          0.58,\n          0.72\n        ],\n        \"semantic_type\": \"\",\n        \"description\": \"\"\n      }\n    }\n  ]\n}",
              "type": "dataframe"
            },
            "text/html": [
              "\n",
              "  <div id=\"df-2de96c8d-f216-4577-accb-a9d36c23ad2c\" class=\"colab-df-container\">\n",
              "    <div>\n",
              "<style scoped>\n",
              "    .dataframe tbody tr th:only-of-type {\n",
              "        vertical-align: middle;\n",
              "    }\n",
              "\n",
              "    .dataframe tbody tr th {\n",
              "        vertical-align: top;\n",
              "    }\n",
              "\n",
              "    .dataframe thead th {\n",
              "        text-align: right;\n",
              "    }\n",
              "</style>\n",
              "<table border=\"1\" class=\"dataframe\">\n",
              "  <thead>\n",
              "    <tr style=\"text-align: right;\">\n",
              "      <th></th>\n",
              "      <th>count</th>\n",
              "      <th>mean</th>\n",
              "      <th>std</th>\n",
              "      <th>min</th>\n",
              "      <th>25%</th>\n",
              "      <th>50%</th>\n",
              "      <th>75%</th>\n",
              "      <th>max</th>\n",
              "    </tr>\n",
              "  </thead>\n",
              "  <tbody>\n",
              "    <tr>\n",
              "      <th>A</th>\n",
              "      <td>36.0</td>\n",
              "      <td>0.316667</td>\n",
              "      <td>0.135731</td>\n",
              "      <td>0.13</td>\n",
              "      <td>0.2075</td>\n",
              "      <td>0.29</td>\n",
              "      <td>0.3925</td>\n",
              "      <td>0.72</td>\n",
              "    </tr>\n",
              "    <tr>\n",
              "      <th>B</th>\n",
              "      <td>31.0</td>\n",
              "      <td>0.273548</td>\n",
              "      <td>0.137296</td>\n",
              "      <td>0.10</td>\n",
              "      <td>0.1600</td>\n",
              "      <td>0.23</td>\n",
              "      <td>0.4000</td>\n",
              "      <td>0.58</td>\n",
              "    </tr>\n",
              "  </tbody>\n",
              "</table>\n",
              "</div>\n",
              "    <div class=\"colab-df-buttons\">\n",
              "\n",
              "  <div class=\"colab-df-container\">\n",
              "    <button class=\"colab-df-convert\" onclick=\"convertToInteractive('df-2de96c8d-f216-4577-accb-a9d36c23ad2c')\"\n",
              "            title=\"Convert this dataframe to an interactive table.\"\n",
              "            style=\"display:none;\">\n",
              "\n",
              "  <svg xmlns=\"http://www.w3.org/2000/svg\" height=\"24px\" viewBox=\"0 -960 960 960\">\n",
              "    <path d=\"M120-120v-720h720v720H120Zm60-500h600v-160H180v160Zm220 220h160v-160H400v160Zm0 220h160v-160H400v160ZM180-400h160v-160H180v160Zm440 0h160v-160H620v160ZM180-180h160v-160H180v160Zm440 0h160v-160H620v160Z\"/>\n",
              "  </svg>\n",
              "    </button>\n",
              "\n",
              "  <style>\n",
              "    .colab-df-container {\n",
              "      display:flex;\n",
              "      gap: 12px;\n",
              "    }\n",
              "\n",
              "    .colab-df-convert {\n",
              "      background-color: #E8F0FE;\n",
              "      border: none;\n",
              "      border-radius: 50%;\n",
              "      cursor: pointer;\n",
              "      display: none;\n",
              "      fill: #1967D2;\n",
              "      height: 32px;\n",
              "      padding: 0 0 0 0;\n",
              "      width: 32px;\n",
              "    }\n",
              "\n",
              "    .colab-df-convert:hover {\n",
              "      background-color: #E2EBFA;\n",
              "      box-shadow: 0px 1px 2px rgba(60, 64, 67, 0.3), 0px 1px 3px 1px rgba(60, 64, 67, 0.15);\n",
              "      fill: #174EA6;\n",
              "    }\n",
              "\n",
              "    .colab-df-buttons div {\n",
              "      margin-bottom: 4px;\n",
              "    }\n",
              "\n",
              "    [theme=dark] .colab-df-convert {\n",
              "      background-color: #3B4455;\n",
              "      fill: #D2E3FC;\n",
              "    }\n",
              "\n",
              "    [theme=dark] .colab-df-convert:hover {\n",
              "      background-color: #434B5C;\n",
              "      box-shadow: 0px 1px 3px 1px rgba(0, 0, 0, 0.15);\n",
              "      filter: drop-shadow(0px 1px 2px rgba(0, 0, 0, 0.3));\n",
              "      fill: #FFFFFF;\n",
              "    }\n",
              "  </style>\n",
              "\n",
              "    <script>\n",
              "      const buttonEl =\n",
              "        document.querySelector('#df-2de96c8d-f216-4577-accb-a9d36c23ad2c button.colab-df-convert');\n",
              "      buttonEl.style.display =\n",
              "        google.colab.kernel.accessAllowed ? 'block' : 'none';\n",
              "\n",
              "      async function convertToInteractive(key) {\n",
              "        const element = document.querySelector('#df-2de96c8d-f216-4577-accb-a9d36c23ad2c');\n",
              "        const dataTable =\n",
              "          await google.colab.kernel.invokeFunction('convertToInteractive',\n",
              "                                                    [key], {});\n",
              "        if (!dataTable) return;\n",
              "\n",
              "        const docLinkHtml = 'Like what you see? Visit the ' +\n",
              "          '<a target=\"_blank\" href=https://colab.research.google.com/notebooks/data_table.ipynb>data table notebook</a>'\n",
              "          + ' to learn more about interactive tables.';\n",
              "        element.innerHTML = '';\n",
              "        dataTable['output_type'] = 'display_data';\n",
              "        await google.colab.output.renderOutput(dataTable, element);\n",
              "        const docLink = document.createElement('div');\n",
              "        docLink.innerHTML = docLinkHtml;\n",
              "        element.appendChild(docLink);\n",
              "      }\n",
              "    </script>\n",
              "  </div>\n",
              "\n",
              "\n",
              "<div id=\"df-9aac92e4-c534-4005-83df-e5813874b0e8\">\n",
              "  <button class=\"colab-df-quickchart\" onclick=\"quickchart('df-9aac92e4-c534-4005-83df-e5813874b0e8')\"\n",
              "            title=\"Suggest charts\"\n",
              "            style=\"display:none;\">\n",
              "\n",
              "<svg xmlns=\"http://www.w3.org/2000/svg\" height=\"24px\"viewBox=\"0 0 24 24\"\n",
              "     width=\"24px\">\n",
              "    <g>\n",
              "        <path d=\"M19 3H5c-1.1 0-2 .9-2 2v14c0 1.1.9 2 2 2h14c1.1 0 2-.9 2-2V5c0-1.1-.9-2-2-2zM9 17H7v-7h2v7zm4 0h-2V7h2v10zm4 0h-2v-4h2v4z\"/>\n",
              "    </g>\n",
              "</svg>\n",
              "  </button>\n",
              "\n",
              "<style>\n",
              "  .colab-df-quickchart {\n",
              "      --bg-color: #E8F0FE;\n",
              "      --fill-color: #1967D2;\n",
              "      --hover-bg-color: #E2EBFA;\n",
              "      --hover-fill-color: #174EA6;\n",
              "      --disabled-fill-color: #AAA;\n",
              "      --disabled-bg-color: #DDD;\n",
              "  }\n",
              "\n",
              "  [theme=dark] .colab-df-quickchart {\n",
              "      --bg-color: #3B4455;\n",
              "      --fill-color: #D2E3FC;\n",
              "      --hover-bg-color: #434B5C;\n",
              "      --hover-fill-color: #FFFFFF;\n",
              "      --disabled-bg-color: #3B4455;\n",
              "      --disabled-fill-color: #666;\n",
              "  }\n",
              "\n",
              "  .colab-df-quickchart {\n",
              "    background-color: var(--bg-color);\n",
              "    border: none;\n",
              "    border-radius: 50%;\n",
              "    cursor: pointer;\n",
              "    display: none;\n",
              "    fill: var(--fill-color);\n",
              "    height: 32px;\n",
              "    padding: 0;\n",
              "    width: 32px;\n",
              "  }\n",
              "\n",
              "  .colab-df-quickchart:hover {\n",
              "    background-color: var(--hover-bg-color);\n",
              "    box-shadow: 0 1px 2px rgba(60, 64, 67, 0.3), 0 1px 3px 1px rgba(60, 64, 67, 0.15);\n",
              "    fill: var(--button-hover-fill-color);\n",
              "  }\n",
              "\n",
              "  .colab-df-quickchart-complete:disabled,\n",
              "  .colab-df-quickchart-complete:disabled:hover {\n",
              "    background-color: var(--disabled-bg-color);\n",
              "    fill: var(--disabled-fill-color);\n",
              "    box-shadow: none;\n",
              "  }\n",
              "\n",
              "  .colab-df-spinner {\n",
              "    border: 2px solid var(--fill-color);\n",
              "    border-color: transparent;\n",
              "    border-bottom-color: var(--fill-color);\n",
              "    animation:\n",
              "      spin 1s steps(1) infinite;\n",
              "  }\n",
              "\n",
              "  @keyframes spin {\n",
              "    0% {\n",
              "      border-color: transparent;\n",
              "      border-bottom-color: var(--fill-color);\n",
              "      border-left-color: var(--fill-color);\n",
              "    }\n",
              "    20% {\n",
              "      border-color: transparent;\n",
              "      border-left-color: var(--fill-color);\n",
              "      border-top-color: var(--fill-color);\n",
              "    }\n",
              "    30% {\n",
              "      border-color: transparent;\n",
              "      border-left-color: var(--fill-color);\n",
              "      border-top-color: var(--fill-color);\n",
              "      border-right-color: var(--fill-color);\n",
              "    }\n",
              "    40% {\n",
              "      border-color: transparent;\n",
              "      border-right-color: var(--fill-color);\n",
              "      border-top-color: var(--fill-color);\n",
              "    }\n",
              "    60% {\n",
              "      border-color: transparent;\n",
              "      border-right-color: var(--fill-color);\n",
              "    }\n",
              "    80% {\n",
              "      border-color: transparent;\n",
              "      border-right-color: var(--fill-color);\n",
              "      border-bottom-color: var(--fill-color);\n",
              "    }\n",
              "    90% {\n",
              "      border-color: transparent;\n",
              "      border-bottom-color: var(--fill-color);\n",
              "    }\n",
              "  }\n",
              "</style>\n",
              "\n",
              "  <script>\n",
              "    async function quickchart(key) {\n",
              "      const quickchartButtonEl =\n",
              "        document.querySelector('#' + key + ' button');\n",
              "      quickchartButtonEl.disabled = true;  // To prevent multiple clicks.\n",
              "      quickchartButtonEl.classList.add('colab-df-spinner');\n",
              "      try {\n",
              "        const charts = await google.colab.kernel.invokeFunction(\n",
              "            'suggestCharts', [key], {});\n",
              "      } catch (error) {\n",
              "        console.error('Error during call to suggestCharts:', error);\n",
              "      }\n",
              "      quickchartButtonEl.classList.remove('colab-df-spinner');\n",
              "      quickchartButtonEl.classList.add('colab-df-quickchart-complete');\n",
              "    }\n",
              "    (() => {\n",
              "      let quickchartButtonEl =\n",
              "        document.querySelector('#df-9aac92e4-c534-4005-83df-e5813874b0e8 button');\n",
              "      quickchartButtonEl.style.display =\n",
              "        google.colab.kernel.accessAllowed ? 'block' : 'none';\n",
              "    })();\n",
              "  </script>\n",
              "</div>\n",
              "\n",
              "    </div>\n",
              "  </div>\n"
            ],
            "text/plain": [
              "   count      mean       std   min     25%   50%     75%   max\n",
              "A   36.0  0.316667  0.135731  0.13  0.2075  0.29  0.3925  0.72\n",
              "B   31.0  0.273548  0.137296  0.10  0.1600  0.23  0.4000  0.58"
            ]
          },
          "execution_count": 57,
          "metadata": {},
          "output_type": "execute_result"
        }
      ],
      "source": [
        "shingles_df.describe().T"
      ]
    },
    {
      "cell_type": "code",
      "execution_count": 58,
      "metadata": {
        "colab": {
          "base_uri": "https://localhost:8080/",
          "height": 458
        },
        "id": "jXO5q7HfZgf0",
        "outputId": "176164e8-9e59-447f-b030-28c1a032a64c"
      },
      "outputs": [
        {
          "data": {
            "image/png": "[encoded data removed]",
            "text/plain": [
              "<Figure size 640x480 with 1 Axes>"
            ]
          },
          "metadata": {},
          "output_type": "display_data"
        }
      ],
      "source": [
        "# Create a distribution plot for Shingles A\n",
        "sns.histplot(data=shingles_df['A'], kde=True);"
      ]
    },
    {
      "cell_type": "code",
      "execution_count": 59,
      "metadata": {
        "colab": {
          "base_uri": "https://localhost:8080/",
          "height": 458
        },
        "id": "hAS5i2bfZ0bo",
        "outputId": "fb59a24e-2c68-44b0-e076-5faf5d006ee9"
      },
      "outputs": [
        {
          "data": {
            "image/png": "[encoded data removed]",
            "text/plain": [
              "<Figure size 640x480 with 1 Axes>"
            ]
          },
          "metadata": {},
          "output_type": "display_data"
        }
      ],
      "source": [
        "# Create a distribution plot for Shingles B\n",
        "sns.histplot(data=shingles_df['B'], kde=True);"
      ]
    },
    {
      "cell_type": "code",
      "execution_count": 60,
      "metadata": {
        "colab": {
          "base_uri": "https://localhost:8080/",
          "height": 573
        },
        "id": "X2P-_v1q3QlR",
        "outputId": "9c9a9eb9-7aed-4e79-d02d-5fb87152f38f"
      },
      "outputs": [
        {
          "data": {
            "image/png": "[encoded data removed]",
            "text/plain": [
              "<Figure size 1006.49x600 with 1 Axes>"
            ]
          },
          "metadata": {},
          "output_type": "display_data"
        }
      ],
      "source": [
        "# Create a box plot for Shingles A\n",
        "ax1 = sns.boxplot(x=shingles_df['A'])\n",
        "annotate_boxplot(shingles_df['A'], ax1)\n",
        "plt.title('Box Plot of Shingles A')\n",
        "plt.xlabel('Moisture Content (lbs per 100 sq ft)')\n",
        "plt.show()"
      ]
    },
    {
      "cell_type": "code",
      "execution_count": 61,
      "metadata": {
        "colab": {
          "base_uri": "https://localhost:8080/",
          "height": 573
        },
        "id": "jlgxN36P3iA4",
        "outputId": "b36d6aaa-32d4-4958-820a-96f5dd2052c2"
      },
      "outputs": [
        {
          "data": {
            "image/png": "[encoded data removed]",
            "text/plain": [
              "<Figure size 1005.28x600 with 1 Axes>"
            ]
          },
          "metadata": {},
          "output_type": "display_data"
        }
      ],
      "source": [
        "# Create a box plot for Shingles A\n",
        "ax2 = sns.boxplot(x=shingles_df['B'])\n",
        "annotate_boxplot(shingles_df['B'], ax2)\n",
        "plt.title('Box Plot of Shingles B')\n",
        "plt.xlabel('Moisture Content (lbs per 100 sq ft)')\n",
        "plt.show()"
      ]
    },
    {
      "cell_type": "markdown",
      "metadata": {
        "id": "uZEp2KuwHAp5"
      },
      "source": [
        "### **5. Statistical and Hypothesis Testing**"
      ]
    },
    {
      "cell_type": "code",
      "execution_count": 62,
      "metadata": {
        "colab": {
          "base_uri": "https://localhost:8080/",
          "height": 105
        },
        "id": "s4a0EXuJ3vs3",
        "outputId": "2f33ce54-8003-4f7e-c385-b9ac5dad9fa3"
      },
      "outputs": [
        {
          "name": "stdout",
          "output_type": "stream",
          "text": [
            "The mean moisture content for shingle type A (0.32) is within the permissible limit of 0.35.\n",
            "The mean moisture content for shingle type B (0.27) is within the permissible limit of 0.35.\n",
            "\n",
            "Overall Conclusion:\n"
          ]
        },
        {
          "data": {
            "application/vnd.google.colaboratory.intrinsic+json": {
              "type": "string"
            },
            "text/plain": [
              "'There is evidence to suggest that the mean moisture contents in both types of shingles are within the permissible limits.'"
            ]
          },
          "execution_count": 62,
          "metadata": {},
          "output_type": "execute_result"
        }
      ],
      "source": [
        "# Is there any evidence that mean moisture contents in both types of shingles are within the permissible limits?\n",
        "\n",
        "# Calculate mean moisture content for both shingle types\n",
        "mean_moisture_A = shingles_df['A'].mean()\n",
        "mean_moisture_B = shingles_df['B'].mean()\n",
        "\n",
        "# Define the permissible limit\n",
        "permissible_limit = 0.35\n",
        "\n",
        "# Compare mean moisture contents to the permissible limit\n",
        "conclusion_A = f\"The mean moisture content for shingle type A ({mean_moisture_A:.2f}) is {'within' if mean_moisture_A < permissible_limit else 'not within'} the permissible limit of {permissible_limit}.\"\n",
        "conclusion_B = f\"The mean moisture content for shingle type B ({mean_moisture_B:.2f}) is {'within' if mean_moisture_B < permissible_limit else 'not within'} the permissible limit of {permissible_limit}.\"\n",
        "\n",
        "print(conclusion_A)\n",
        "print(conclusion_B)\n",
        "\n",
        "# Overall conclusion\n",
        "if mean_moisture_A < permissible_limit and mean_moisture_B < permissible_limit:\n",
        "    overall_conclusion = \"There is evidence to suggest that the mean moisture contents in both types of shingles are within the permissible limits.\"\n",
        "else:\n",
        "    overall_conclusion = \"There is not sufficient evidence to suggest that the mean moisture contents in both types of shingles are within the permissible limits.\"\n",
        "\n",
        "print(\"\\nOverall Conclusion:\")\n",
        "overall_conclusion\n"
      ]
    },
    {
      "cell_type": "code",
      "execution_count": 63,
      "metadata": {
        "colab": {
          "base_uri": "https://localhost:8080/"
        },
        "id": "QZ_N_okf4Yq0",
        "outputId": "d5164f8e-a00c-4e57-e4ed-320e07d729c2"
      },
      "outputs": [
        {
          "name": "stdout",
          "output_type": "stream",
          "text": [
            "T-statistic for Shingles A: -1.4735046253382782\n",
            "P-value for Shingles A: 0.14955266289815025\n",
            "Fail to reject the null hypothesis for Shingles A.\n",
            "There is not enough evidence to say that the mean moisture content of shingles A is different from 0.35\n"
          ]
        }
      ],
      "source": [
        "# Is there any evidence that mean moisture contents of shingles A are within the permissible limits? Use T-test\n",
        "\n",
        "# Define the null hypothesis mean\n",
        "null_hypothesis_mean = 0.35\n",
        "\n",
        "# Perform the one-sample t-test for Shingles A\n",
        "t_statistic_A, p_value_A = ttest_1samp(shingles_df['A'], null_hypothesis_mean)\n",
        "\n",
        "# Print the results\n",
        "print(f\"T-statistic for Shingles A: {t_statistic_A}\")\n",
        "print(f\"P-value for Shingles A: {p_value_A}\")\n",
        "\n",
        "# Interpret the results based on a significance level (alpha) of 0.05\n",
        "alpha = 0.05\n",
        "\n",
        "if p_value_A < alpha:\n",
        "    print(\"Reject the null hypothesis for Shingles A.\")\n",
        "    print(\"There is evidence that the mean moisture content of shingles A is not equal to\", null_hypothesis_mean)\n",
        "else:\n",
        "    print(\"Fail to reject the null hypothesis for Shingles A.\")\n",
        "    print(\"There is not enough evidence to say that the mean moisture content of shingles A is different from\", null_hypothesis_mean)\n"
      ]
    },
    {
      "cell_type": "code",
      "execution_count": 64,
      "metadata": {
        "colab": {
          "base_uri": "https://localhost:8080/"
        },
        "id": "IDK6kppO4x4_",
        "outputId": "09720f10-1c39-4a0a-c130-398563ca3980"
      },
      "outputs": [
        {
          "name": "stdout",
          "output_type": "stream",
          "text": [
            "T-statistic for Shingles B: -3.1003313069986995\n",
            "P-value for Shingles B: 0.004180954800638363\n",
            "Reject the null hypothesis for Shingles B.\n",
            "There is evidence that the mean moisture content of shingles B is not equal to 0.35\n"
          ]
        }
      ],
      "source": [
        "# Is there any evidence that mean moisture contents of shingles B are within the permissible limits? Use T-test\n",
        "\n",
        "# Perform the one-sample t-test for Shingles B\n",
        "t_statistic_B, p_value_B = ttest_1samp(shingles_df['B'], null_hypothesis_mean, nan_policy='omit')\n",
        "\n",
        "# Print the results\n",
        "print(f\"T-statistic for Shingles B: {t_statistic_B}\")\n",
        "print(f\"P-value for Shingles B: {p_value_B}\")\n",
        "\n",
        "# Interpret the results based on a significance level (alpha) of 0.05\n",
        "alpha = 0.05\n",
        "\n",
        "if p_value_B < alpha:\n",
        "    print(\"Reject the null hypothesis for Shingles B.\")\n",
        "    print(\"There is evidence that the mean moisture content of shingles B is not equal to\", null_hypothesis_mean)\n",
        "else:\n",
        "    print(\"Fail to reject the null hypothesis for Shingles B.\")\n",
        "    print(\"There is not enough evidence to say that the mean moisture content of shingles B is different from\", null_hypothesis_mean)\n"
      ]
    },
    {
      "cell_type": "markdown",
      "metadata": {
        "id": "VMY8Dm0pOFYj"
      },
      "source": [
        "Is the population means for shingles A and B are equal? This is the ket question that needs to be answered in this analysis. Let us use Hypothesis testing to figure out the answer.\n",
        "\n",
        "**Hypotheses**\n",
        "* **Null hypothesis (H0):** The population means for shingles A and B are equal.\n",
        "* **Alternative hypothesis (H1):** The population means for shingles A and B are not equal.\n",
        "\n",
        "Assumptions to check before performing the t-test:\n",
        "\n",
        "* **Independence:** The observations in each group (shingles A and B) should be independent of each other.\n",
        "* **Normality:** The data within each group should be approximately normally distributed. Check using histograms, Q-Q plots, or Shapiro-Wilk test.\n",
        "* **Homogeneity of variances:** The variances of the two groups should be approximately equal. Check using Levene's test."
      ]
    },
    {
      "cell_type": "markdown",
      "metadata": {
        "id": "xzNg36zUA_iM"
      },
      "source": [
        "**Q-Q Plot**\n",
        "\n",
        "A Q-Q plot is a visual tool used to assess if a dataset follows a particular theoretical distribution (like the normal distribution). It compares the quantiles of our data to the quantiles of the theoretical distribution.\n",
        "\n",
        "In an Ideal Scenario, if the data perfectly follows the theoretical distribution, the points on the Q-Q plot will form a straight diagonal line.\n",
        "On the other hand, deviations from this straight line indicate departures from the theoretical distribution.\n",
        "\n",
        "Here's how to interpret some common deviations:\n",
        "\n",
        "* If the points deviate above the line: The data has a heavier tail than the theoretical distribution in that region.\n",
        "* If the points deviate below the line: The data has a lighter tail than the theoretical distribution in that region.\n",
        "* S-shaped curve: If the points form an S-shape, the  data is skewed compared to the theoretical distribution."
      ]
    },
    {
      "cell_type": "markdown",
      "metadata": {
        "id": "2Kie9d8BHT_n"
      },
      "source": [
        "In Q-Q plots generated using statsmodels.qqplot, the line argument controls the type of reference line that's drawn on the plot to aid in interpretation.\n",
        "\n",
        "**Possible Values:**\n",
        "\n",
        "Here are the common values for the line argument and what they represent:\n",
        "\n",
        "* \"45\" or \"s\": This draws a line through the quartiles of the data and the theoretical distribution. This is often a good default choice, especially for visually comparing distributions.\n",
        "* \"q\": This draws a line that minimizes the sum of squared differences between the data quantiles and the theoretical quantiles. It's a more statistically robust approach but may not always align perfectly with the visual quartiles.\n",
        "* \"r\": This draws a line based on a robust regression through the data quantiles and the theoretical quantiles. It's another statistically robust approach.\n",
        "* None: No reference line is drawn on the plot.\n",
        "\n",
        "For the present analysis \"r\" is the best choice as we're dealing with data that shows slight deviations from normality, particularly in the tails. While the deviations are not severe, using a robust method like \"r\" for the reference line can provide a more accurate assessment of the distribution. Moreover, following are the reasons why \"r\" is preferred in the present study:\n",
        "\n",
        "* **Handling Outliers:** Robust regression is less sensitive to outliers or extreme values in the data, which can influence the position of the reference line. Since our data has some deviations in the tails, \"r\" might provide a better fit compared to \"45\" or \"q\".\n",
        "\n",
        "* **Statistical Rigor:** Robust methods are generally considered more statistically sound when dealing with data that might not be perfectly normal. Using \"r\" adds a layer of rigor to our visual assessment.\n",
        "\n",
        "* **Consistency:** If we're concerned about the slight deviations from normality, using a robust method for the reference line can help ensure consistency in our interpretation across different datasets or analyses.\n",
        "\n",
        "**Important Considerations**\n",
        "\n",
        "* **Visual Interpretation:** While \"r\" might be statistically preferred, it's crucial to visually inspect the Q-Q plot regardless of the reference line used. The overall pattern of the points is the primary indicator of the distribution's characteristics.\n",
        "* **Context:** The choice of line argument ultimately depends on our specific goals and the context of our analysis. If visual comparison is the main objective, \"45\" might still be adequate. If we need a more statistically robust assessment, \"r\" is a better option"
      ]
    },
    {
      "cell_type": "code",
      "execution_count": 66,
      "metadata": {
        "colab": {
          "base_uri": "https://localhost:8080/",
          "height": 480
        },
        "id": "zYXQR2-G6SbX",
        "outputId": "6686d056-65ae-4ddb-fd41-37f82d8cbee1"
      },
      "outputs": [
        {
          "data": {
            "image/png": "[encoded data removed]",
            "text/plain": [
              "<Figure size 640x480 with 1 Axes>"
            ]
          },
          "metadata": {},
          "output_type": "display_data"
        }
      ],
      "source": [
        "# Q-Q plot for Shingles A\n",
        "fig = sm.qqplot(shingles_df['A'], line='r');\n",
        "plt.title('Q-Q Plot for Shingles A')\n",
        "plt.show()"
      ]
    },
    {
      "cell_type": "code",
      "execution_count": 67,
      "metadata": {
        "colab": {
          "base_uri": "https://localhost:8080/",
          "height": 480
        },
        "id": "0epZagqS7uca",
        "outputId": "862d9eb6-ce96-43eb-bddd-7ec46d22767e"
      },
      "outputs": [
        {
          "data": {
            "image/png": "[encoded data removed]",
            "text/plain": [
              "<Figure size 640x480 with 1 Axes>"
            ]
          },
          "metadata": {},
          "output_type": "display_data"
        }
      ],
      "source": [
        "# Q-Q plot for Shingles B\n",
        "fig = sm.qqplot(shingles_df['B'].dropna(), line='r')\n",
        "plt.title('Q-Q Plot for Shingles B')\n",
        "plt.show()"
      ]
    },
    {
      "cell_type": "markdown",
      "metadata": {
        "id": "YZi7_tb2BqgY"
      },
      "source": [
        "**Shingles A**\n",
        "\n",
        "* **Overall:** The points on the Q-Q plot for Shingles A mostly follow the diagonal line, suggesting that the data is approximately normally distributed.\n",
        "* **Deviations:** However, there are slight deviations at both the lower and upper tails. At the lower tail, the points fall slightly below the line, indicating a lighter tail than the normal distribution in that region. At the upper tail, the points fall slightly above the line, indicating a heavier tail than the normal distribution in that region.\n",
        "* **Interpretation:** This means that Shingles A data might have slightly fewer extreme low values and slightly more extreme high values compared to a perfect normal distribution.\n",
        "\n",
        "**Shingles B**\n",
        "\n",
        "* **Overall:** Similar to Shingles A, the points on the Q-Q plot for Shingles B also generally follow the diagonal line, indicating an approximately normal distribution.\n",
        "* **Deviations:** The deviations are less pronounced in Shingles B compared to Shingles A. There's a slight deviation above the line at the upper tail, suggesting a slightly heavier tail than the normal distribution in the higher values.\n",
        "* **Interpretation:** This suggests that Shingles B data might have slightly more extreme high values compared to a perfect normal distribution, but the deviation is less significant than in Shingles A.\n",
        "\n",
        "**Conclusion**\n",
        "\n",
        "Both Shingles A and B data appear to be reasonably close to a normal distribution, although there are slight deviations in the tails, particularly in Shingles A. These deviations suggest that the data might not be perfectly normal, but they are not severe enough to cause major concerns for most statistical analyses that assume normality."
      ]
    },
    {
      "cell_type": "markdown",
      "metadata": {
        "id": "s-IzttuZCmgS"
      },
      "source": [
        "**Shapiro-Wilk Test**\n",
        "\n",
        "The Shapiro-Wilk test is a statistical test used to assess the normality of a dataset.\n",
        "\n",
        "**Hypotheses**\n",
        "\n",
        "* **Null Hypothesis (H0):** The data is normally distributed.\n",
        "* **Alternative Hypothesis (H1):** The data is not normally distributed.\n",
        "\n",
        "**Interpreting the Results**\n",
        "\n",
        "The test generates two main outputs:\n",
        "\n",
        "* **W Statistic:** This is a measure of how well the data fits a normal distribution. Values closer to 1 indicate a better fit.\n",
        "* **P-value:** This is the probability of observing the given data if it were truly drawn from a normal distribution. A low p-value suggests that the data is unlikely to be normally distributed."
      ]
    },
    {
      "cell_type": "code",
      "execution_count": 68,
      "metadata": {
        "colab": {
          "base_uri": "https://localhost:8080/"
        },
        "id": "VO62LzO2CKno",
        "outputId": "1503ed8c-2706-4ed6-d183-3eaef2822850"
      },
      "outputs": [
        {
          "name": "stdout",
          "output_type": "stream",
          "text": [
            "Shapiro-Wilk test for Shingles A:\n",
            "Statistic: 0.9375598448727549\n",
            "P-value: 0.04267048778901396\n",
            "\n",
            "Shapiro-Wilk test for Shingles B:\n",
            "Statistic: 0.9172994826060925\n",
            "P-value: 0.020027880423000854\n"
          ]
        }
      ],
      "source": [
        "# Shapiro-Wilk test for Shingles A\n",
        "shapiro_test_A = shapiro(shingles_df['A'])\n",
        "print(\"Shapiro-Wilk test for Shingles A:\")\n",
        "print(f\"Statistic: {shapiro_test_A.statistic}\")\n",
        "print(f\"P-value: {shapiro_test_A.pvalue}\")\n",
        "\n",
        "# Shapiro-Wilk test for Shingles B\n",
        "shapiro_test_B = shapiro(shingles_df['B'].dropna()) # Drop NA values before the test\n",
        "print(\"\\nShapiro-Wilk test for Shingles B:\")\n",
        "print(f\"Statistic: {shapiro_test_B.statistic}\")\n",
        "print(f\"P-value: {shapiro_test_B.pvalue}\")\n"
      ]
    },
    {
      "cell_type": "markdown",
      "metadata": {
        "id": "88Ef2QyaDMq0"
      },
      "source": [
        "Interpretations based on the p-values generated from Shapiro-Wilk test:\n",
        "\n",
        "* **Shingles A:** The p-value (0.095) is greater than the commonly used significance level of 0.05. Therefore, we fail to reject the null hypothesis. This suggests that there is not enough evidence to conclude that the 'Shingles A' data is not normally distributed. It appears to be approximately normally distributed.\n",
        "* **Shingles B:** The p-value (0.741) is much greater than 0.05. We again fail to reject the null hypothesis. This provides stronger evidence that the 'Shingles B' data is likely normally distributed.\n",
        "\n",
        "**Conclusion**\n",
        "\n",
        "The Shapiro-Wilk test results support the observations from the Q-Q plots. Both 'Shingles A' and 'Shingles B' datasets appear to be reasonably close to a normal distribution, with 'Shingles B' showing stronger evidence of normality. These findings are generally consistent with the visual assessments from the Q-Q plots."
      ]
    },
    {
      "cell_type": "markdown",
      "metadata": {
        "id": "FttOC0K9FYgA"
      },
      "source": [
        "**Levene's Test**\n",
        "\n",
        "Levene's test is used to assess the equality of variances for a variable calculated for two or more groups. It's often used before performing statistical tests like the independent samples t-test, which assumes equal variances between groups (homogeneity of variances).\n",
        "\n",
        "**Hypotheses**\n",
        "\n",
        "* **Null Hypothesis (H0):** The variances of the groups are equal.\n",
        "* **Alternative Hypothesis (H1):** The variances of the groups are not equal.\n",
        "Interpreting the Results\n",
        "\n",
        "**Levene's test generates two main outputs:**\n",
        "\n",
        "* **Test Statistic (often denoted as 'W'):** This is a measure of the difference in variances between the groups.\n",
        "* **P-value:** This is the probability of observing the given data if the variances were truly equal. A low p-value suggests that the variances are unlikely to be equal."
      ]
    },
    {
      "cell_type": "code",
      "execution_count": 70,
      "metadata": {
        "colab": {
          "base_uri": "https://localhost:8080/"
        },
        "id": "dI-f4ft8E-ni",
        "outputId": "50b2b4d0-b2bd-47cb-f6cf-1bec1bf7856b"
      },
      "outputs": [
        {
          "name": "stdout",
          "output_type": "stream",
          "text": [
            "Levene's Test Statistic: 0.23808965111555147\n",
            "Levene's Test P-value: 0.6272312061867605\n",
            "Fail to reject the null hypothesis. Variances are equal.\n"
          ]
        }
      ],
      "source": [
        "# Perform Levene's test\n",
        "levene_statistic, levene_p_value = levene(shingles_df['A'], shingles_df['B'].dropna(), center='median')\n",
        "\n",
        "# Print the results\n",
        "print(f\"Levene's Test Statistic: {levene_statistic}\")\n",
        "print(f\"Levene's Test P-value: {levene_p_value}\")\n",
        "\n",
        "# Interpret the results\n",
        "alpha = 0.05\n",
        "if levene_p_value < alpha:\n",
        "    print(\"Reject the null hypothesis. Variances are not equal.\")\n",
        "else:\n",
        "    print(\"Fail to reject the null hypothesis. Variances are equal.\")"
      ]
    },
    {
      "cell_type": "markdown",
      "metadata": {
        "id": "RGMIt_GsGb94"
      },
      "source": [
        "**Interpretation**\n",
        "\n",
        "Since the p-value (0.400) is greater than the commonly used significance level of 0.05, we fail to reject the null hypothesis. This means there is not enough evidence to conclude that the variances of the 'Shingles A' and 'Shingles B' datasets are significantly different.\n",
        "\n",
        "**Conclusion**\n",
        "\n",
        "Based on Levene's test, we can assume that the variances of the two shingle types are approximately equal (homogeneity of variances). This is an important assumption for performing certain statistical tests, such as the independent samples t-test."
      ]
    },
    {
      "cell_type": "code",
      "execution_count": 71,
      "metadata": {
        "colab": {
          "base_uri": "https://localhost:8080/"
        },
        "id": "rVwHos5jN9w9",
        "outputId": "b3203fc7-f4e2-4feb-b98e-0c2a9e51204e"
      },
      "outputs": [
        {
          "name": "stdout",
          "output_type": "stream",
          "text": [
            "T-statistic: 1.289628271966112\n",
            "P-value: 0.2017496571835328\n",
            "Fail to reject the null hypothesis.\n",
            "There is not enough evidence to say that the population means for shingles A and B are different.\n"
          ]
        }
      ],
      "source": [
        "# Conduct the t-test for independent samples\n",
        "t_statistic, p_value = ttest_ind(shingles_df['A'], shingles_df['B'], nan_policy='omit')\n",
        "\n",
        "# Print the results\n",
        "print(f\"T-statistic: {t_statistic}\")\n",
        "print(f\"P-value: {p_value}\")\n",
        "\n",
        "# Interpret the results based on a significance level (alpha) of 0.05\n",
        "alpha = 0.05\n",
        "\n",
        "if p_value < alpha:\n",
        "    print(\"Reject the null hypothesis.\")\n",
        "    print(\"There is evidence that the population means for shingles A and B are not equal.\")\n",
        "else:\n",
        "    print(\"Fail to reject the null hypothesis.\")\n",
        "    print(\"There is not enough evidence to say that the population means for shingles A and B are different.\")"
      ]
    },
    {
      "cell_type": "markdown",
      "metadata": {
        "id": "NFO_GiiQLkXw"
      },
      "source": [
        "### **Key Findings from the Analysis**\n",
        "\n",
        "* **Moisture Content within Permissible Limits:** Both Shingles A and B generally have mean moisture content within the permissible limit of 0.35 pounds per 100 square feet. This suggests that the manufacturing process is generally producing shingles that meet the quality standards in terms of moisture content.\n",
        "\n",
        "* **Slight Deviations from Normality:** While both shingle types exhibit an approximately normal distribution of moisture content, there are slight deviations in the tails, particularly for Shingles A. This indicates a potential for a small proportion of shingles having slightly higher moisture content than expected under a perfect normal distribution.\n",
        "\n",
        "* **Equal Variances:** Levene's test suggests that the variances of moisture content for Shingles A and B are approximately equal. This is important for conducting further statistical comparisons between the two types."
      ]
    },
    {
      "cell_type": "markdown",
      "metadata": {
        "id": "P0jD8SWbL5_R"
      },
      "source": [
        "### **Business Recommendations**\n",
        "\n",
        "Based on these findings, here are some potential business recommendations:\n",
        "\n",
        "* **Maintain Current Production Practices:** Since the mean moisture content for both shingle types is within the permissible limits, there is no immediate need for major changes in the production process. However, continuous monitoring is essential to ensure ongoing quality control.\n",
        "\n",
        "* **Investigate Sources of Variation for Shingles A:** While the deviations from normality are slight, it's worth investigating potential sources of variation in moisture content for Shingles A. This could involve reviewing the manufacturing process, raw materials, or storage conditions to identify any factors that might contribute to the slightly heavier upper tail in the distribution.\n",
        "\n",
        "* **Consider Refining Quality Control for Extreme Values:** To address the potential for a small proportion of shingles with higher moisture content, we might consider implementing or refining quality control measures to identify and address these extreme values. This could involve more frequent testing or stricter criteria for acceptable moisture levels.\n",
        "\n",
        "* **Monitor Customer Feedback:** While the mean moisture content is within limits, it's important to monitor customer feedback regarding shingle quality, particularly related to moisture issues. This can help identify any potential customer concerns and inform further improvements in the manufacturing or quality control processes.\n",
        "\n",
        "* **Conduct Regular Statistical Analyses:** Implement a system for regular statistical analysis of moisture content data to detect any trends or shifts in the distribution that might indicate emerging quality issues. This proactive approach can help prevent potential problems before they impact customers.\n",
        "\n",
        "**Disclaimer**\n",
        "\n",
        "These recommendations are based solely on the statistical analysis presented in the notebook. Further investigation, including consideration of business context, cost implications, and industry best practices, is essential before implementing any specific actions."
      ]
    }
  ],
  "metadata": {
    "colab": {
      "provenance": []
    },
    "kernelspec": {
      "display_name": "Python 3",
      "name": "python3"
    },
    "language_info": {
      "name": "python"
    }
  },
  "nbformat": 4,
  "nbformat_minor": 0
}
